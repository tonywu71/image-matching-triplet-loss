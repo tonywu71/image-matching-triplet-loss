{
 "cells": [
  {
   "cell_type": "code",
   "execution_count": 1,
   "id": "5616e97b-298f-4e5c-b7c5-28dd7e9b59c2",
   "metadata": {},
   "outputs": [],
   "source": [
    "%load_ext autoreload\n",
    "%autoreload 2\n",
    "\n",
    "\n",
    "from PIL import Image\n",
    "import numpy as np\n",
    "\n",
    "import tensorflow as tf\n",
    "\n",
    "from dataloader.data_generator import DataGenerator\n",
    "from models.projector import save_embeddings_for_tf_projector\n",
    "from utils.helper import load_config\n",
    "\n",
    "\n",
    "DATA_DIRPATH = \"tiny-imagenet-200/train/\"\n",
    "BATCH_SIZE = 256\n",
    "IMAGE_SIZE = (64, 64)\n",
    "VALIDATION_SPLIT = 0.2"
   ]
  },
  {
   "cell_type": "code",
   "execution_count": 2,
   "id": "b62c6704-d218-46eb-9c66-42ee8770b127",
   "metadata": {},
   "outputs": [],
   "source": [
    "config_filepath = \"config.yaml\"\n",
    "model_dirpath = \"saved_models/efficientnet/\""
   ]
  },
  {
   "cell_type": "code",
   "execution_count": 3,
   "id": "013af32d-d66b-4de3-a67a-e9f833e5badf",
   "metadata": {},
   "outputs": [
    {
     "name": "stdout",
     "output_type": "stream",
     "text": [
      "Found 100000 files belonging to 200 classes.\n",
      "Using 80000 files for training.\n",
      "Using 20000 files for validation.\n"
     ]
    },
    {
     "name": "stderr",
     "output_type": "stream",
     "text": [
      "2022-12-28 19:20:06.636025: I tensorflow/core/common_runtime/pluggable_device/pluggable_device_factory.cc:306] Could not identify NUMA node of platform GPU ID 0, defaulting to 0. Your kernel may not have been built with NUMA support.\n",
      "2022-12-28 19:20:06.636152: I tensorflow/core/common_runtime/pluggable_device/pluggable_device_factory.cc:272] Created TensorFlow device (/job:localhost/replica:0/task:0/device:GPU:0 with 0 MB memory) -> physical PluggableDevice (device: 0, name: METAL, pci bus id: <undefined>)\n"
     ]
    },
    {
     "name": "stdout",
     "output_type": "stream",
     "text": [
      "Metal device set to: Apple M1\n"
     ]
    }
   ],
   "source": [
    "# ---- Load config ---\n",
    "config = load_config(config_filepath)\n",
    "\n",
    "# --- Load data ---\n",
    "data_generator = DataGenerator(\n",
    "    directory=DATA_DIRPATH,\n",
    "    batch_size=BATCH_SIZE,\n",
    "    image_size=IMAGE_SIZE,\n",
    "    shuffle=True,\n",
    "    seed=config[\"seed\"],\n",
    "    validation_split=VALIDATION_SPLIT\n",
    ")\n",
    "\n",
    "# --- Visualization ---\n",
    "model = tf.keras.models.load_model(model_dirpath, compile=False)"
   ]
  },
  {
   "cell_type": "code",
   "execution_count": 4,
   "id": "8250a927-6303-4821-99d0-242c01b5040d",
   "metadata": {},
   "outputs": [],
   "source": [
    "ds_val = data_generator.val_raw"
   ]
  },
  {
   "cell_type": "code",
   "execution_count": 5,
   "id": "c9b377cc-daed-46dc-8da8-535f74c810c1",
   "metadata": {},
   "outputs": [
    {
     "name": "stderr",
     "output_type": "stream",
     "text": [
      "2022-12-28 19:20:28.164757: W tensorflow/core/platform/profile_utils/cpu_utils.cc:128] Failed to get CPU frequency: 0 Hz\n"
     ]
    }
   ],
   "source": [
    "images_pil = []\n",
    "\n",
    "for x, y in ds_val: \n",
    "    img_pil = Image.fromarray(x.numpy().astype(np.uint8))\n",
    "    images_pil.append(img_pil)"
   ]
  },
  {
   "cell_type": "code",
   "execution_count": 6,
   "id": "0f80a68e-2302-40bc-8f99-a03b3223a8d0",
   "metadata": {},
   "outputs": [],
   "source": [
    "one_square_size = int(np.ceil(np.sqrt(len(images_pil))))\n",
    "master_width = IMAGE_SIZE[0] * one_square_size\n",
    "master_height = IMAGE_SIZE[1] * one_square_size\n",
    "spriteimage = Image.new(\n",
    "    mode=\"RGBA\",\n",
    "    size=(master_width, master_height),\n",
    "    color=(0,0,0,0) # fully transparent\n",
    ")\n",
    "\n",
    "for count, image in enumerate(images_pil):\n",
    "    div, mod = divmod(count, one_square_size)\n",
    "    w_loc = IMAGE_SIZE[0] * mod\n",
    "    h_loc = IMAGE_SIZE[1] * div\n",
    "    spriteimage.paste(image, (w_loc, h_loc))\n",
    "\n",
    "spriteimage.convert(\"RGB\").save(\"sprite.jpg\", transparency=0)"
   ]
  },
  {
   "cell_type": "code",
   "execution_count": null,
   "id": "50deaf11-c0e6-4c2d-b03c-ad6bd0b9fce8",
   "metadata": {},
   "outputs": [],
   "source": []
  }
 ],
 "metadata": {
  "kernelspec": {
   "display_name": "Python 3 (ipykernel)",
   "language": "python",
   "name": "python3"
  },
  "language_info": {
   "codemirror_mode": {
    "name": "ipython",
    "version": 3
   },
   "file_extension": ".py",
   "mimetype": "text/x-python",
   "name": "python",
   "nbconvert_exporter": "python",
   "pygments_lexer": "ipython3",
   "version": "3.10.8"
  }
 },
 "nbformat": 4,
 "nbformat_minor": 5
}
