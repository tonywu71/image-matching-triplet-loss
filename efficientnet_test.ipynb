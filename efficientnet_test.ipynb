{
 "cells": [
  {
   "cell_type": "code",
   "execution_count": null,
   "id": "324b4314-88c0-4909-b18f-12d99f4165af",
   "metadata": {},
   "outputs": [],
   "source": [
    "%load_ext autoreload\n",
    "%autoreload 2\n",
    "\n",
    "import numpy as np\n",
    "import tensorflow as tf\n",
    "import tensorflow_hub as hub\n",
    "import tensorflow_addons as tfa\n",
    "import tensorflow_datasets as tfds\n",
    "\n",
    "from dataloader.datasets import DataGenerator\n",
    "from dataloader.utils import get_count_classes, plot_classes, plot_from_one_class\n",
    "from models.feature_model import load_and_compile_model\n",
    "\n",
    "SEED = 0"
   ]
  },
  {
   "cell_type": "markdown",
   "id": "6b828070-3db2-45aa-9bff-dbc47ea23b19",
   "metadata": {},
   "source": [
    "# Load datasets"
   ]
  },
  {
   "cell_type": "code",
   "execution_count": null,
   "id": "a6425c9f-bb36-4915-803d-687d00b825ed",
   "metadata": {},
   "outputs": [],
   "source": [
    "data_generator = DataGenerator(\n",
    "    directory=\"tiny-imagenet-200/train/\",\n",
    "    batch_size=256,\n",
    "    image_size=(64, 64),\n",
    "    shuffle=True,\n",
    "    seed=SEED,\n",
    "    validation_split=0.2\n",
    ")\n",
    "\n",
    "ds_train, ds_val = data_generator.train, data_generator.val"
   ]
  },
  {
   "cell_type": "code",
   "execution_count": null,
   "id": "8ae19a23-1208-46e2-aa8e-199e2f49f6cd",
   "metadata": {},
   "outputs": [],
   "source": [
    "x = next(iter(ds_train))\n",
    "\n",
    "x[0].shape"
   ]
  },
  {
   "cell_type": "markdown",
   "id": "bb59ba35-678e-45af-b877-2c03efa2b8b4",
   "metadata": {},
   "source": [
    "# Load model"
   ]
  },
  {
   "cell_type": "code",
   "execution_count": null,
   "id": "c28be42c-2cd3-424e-b43d-0ab33c34b564",
   "metadata": {},
   "outputs": [],
   "source": [
    "model = load_and_compile_model(model=\"efficientnet\")\n",
    "# model = load_and_compile_model(model=\"resnet50\")"
   ]
  },
  {
   "cell_type": "code",
   "execution_count": null,
   "id": "7acd4cfc-4757-4f3b-b3f5-060adcbe46f1",
   "metadata": {},
   "outputs": [],
   "source": [
    "config = {\n",
    "    \"epochs\": 10,\n",
    "    \"early_stopping_patience\": 3\n",
    "}\n",
    "\n",
    "callbacks = [\n",
    "    tf.keras.callbacks.EarlyStopping(\n",
    "        patience=config[\"early_stopping_patience\"],\n",
    "        monitor=\"val_loss\",\n",
    "        mode=\"min\",\n",
    "        restore_best_weights=True)\n",
    "]\n",
    "\n",
    "\n",
    "# Train the network\n",
    "history = model.fit(ds_train,\n",
    "                    epochs=config[\"epochs\"],\n",
    "                    validation_data=ds_val,\n",
    "                    callbacks=callbacks)"
   ]
  },
  {
   "cell_type": "markdown",
   "id": "571a9016-e0b8-4ccb-9f10-6665a973d615",
   "metadata": {},
   "source": [
    "# Save model"
   ]
  },
  {
   "cell_type": "code",
   "execution_count": null,
   "id": "97cb5284-ea25-4367-8d98-57725408ebd2",
   "metadata": {},
   "outputs": [],
   "source": [
    "model.save(\"saved_models/feature_model\")"
   ]
  },
  {
   "cell_type": "markdown",
   "id": "cdd0fc5c-b043-484b-8d0c-896d33e19314",
   "metadata": {},
   "source": [
    "# Generate embeddings for Tensorboard Projector"
   ]
  },
  {
   "cell_type": "code",
   "execution_count": null,
   "id": "9a2bfe92-b530-48aa-9df5-d05ca34efcb6",
   "metadata": {},
   "outputs": [],
   "source": [
    "# Evaluate the network\n",
    "results = model.predict(ds_val)"
   ]
  },
  {
   "cell_type": "code",
   "execution_count": null,
   "id": "2fc4d8c2-5d5e-4430-99f7-5f43ba42a2d1",
   "metadata": {},
   "outputs": [],
   "source": [
    "# Save test embeddings for visualization in projector\n",
    "np.savetxt(\"vecs.tsv\", results, delimiter='\\t')\n",
    "\n",
    "with open('meta.tsv', 'w', encoding='utf-8') as f:\n",
    "    for img, labels in tfds.as_numpy(ds_val):\n",
    "        [f.write(str(x) + \"\\n\") for x in labels]"
   ]
  },
  {
   "cell_type": "markdown",
   "id": "44cff004-2a24-419c-920f-67eb43b54c33",
   "metadata": {},
   "source": [
    "# Evaluate model"
   ]
  },
  {
   "cell_type": "code",
   "execution_count": null,
   "id": "11c6a5f9-e945-4682-bc5f-2cb8eedb5955",
   "metadata": {},
   "outputs": [],
   "source": [
    "model.predict(ds_val)"
   ]
  },
  {
   "cell_type": "code",
   "execution_count": null,
   "id": "1e29ef28-9208-4311-8e09-a5ef955a25a1",
   "metadata": {},
   "outputs": [],
   "source": [
    "model.evaluate(ds_val)"
   ]
  },
  {
   "cell_type": "code",
   "execution_count": null,
   "id": "3423ffdd-65dd-4bb4-91a8-223a2bf88e6c",
   "metadata": {},
   "outputs": [],
   "source": [
    "ds_one_class = ds_val.unbatch().filter(lambda x, y: y==100)"
   ]
  },
  {
   "cell_type": "code",
   "execution_count": null,
   "id": "1d402efb-4ecf-443f-aea1-fbf67e7a3fda",
   "metadata": {},
   "outputs": [],
   "source": [
    "model.evaluate(ds_one_class.batch(32))"
   ]
  },
  {
   "cell_type": "code",
   "execution_count": null,
   "id": "149707a9-4ab9-478b-9bad-57027fd6b82d",
   "metadata": {},
   "outputs": [],
   "source": []
  }
 ],
 "metadata": {
  "kernelspec": {
   "display_name": "Python 3 (ipykernel)",
   "language": "python",
   "name": "python3"
  },
  "language_info": {
   "codemirror_mode": {
    "name": "ipython",
    "version": 3
   },
   "file_extension": ".py",
   "mimetype": "text/x-python",
   "name": "python",
   "nbconvert_exporter": "python",
   "pygments_lexer": "ipython3",
   "version": "3.10.8"
  },
  "vscode": {
   "interpreter": {
    "hash": "a2f3763b8f7ed0fd895f0e4219790d0139d7c113c011eea59191ef43ba4883ed"
   }
  }
 },
 "nbformat": 4,
 "nbformat_minor": 5
}
