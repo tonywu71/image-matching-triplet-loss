{
 "cells": [
  {
   "cell_type": "code",
   "execution_count": 1,
   "id": "324b4314-88c0-4909-b18f-12d99f4165af",
   "metadata": {},
   "outputs": [],
   "source": [
    "%load_ext autoreload\n",
    "%autoreload 2\n",
    "\n",
    "import numpy as np\n",
    "import tensorflow as tf\n",
    "import tensorflow_hub as hub\n",
    "import tensorflow_addons as tfa\n",
    "\n",
    "from dataloader.datasets import DataGenerator\n",
    "from dataloader.utils import get_count_classes, plot_classes, plot_from_one_class\n",
    "from models.feature_model import load_and_compile_model\n",
    "\n",
    "SEED = 0"
   ]
  },
  {
   "cell_type": "markdown",
   "id": "6b828070-3db2-45aa-9bff-dbc47ea23b19",
   "metadata": {},
   "source": [
    "# Load datasets"
   ]
  },
  {
   "cell_type": "code",
   "execution_count": 2,
   "id": "a6425c9f-bb36-4915-803d-687d00b825ed",
   "metadata": {},
   "outputs": [
    {
     "name": "stdout",
     "output_type": "stream",
     "text": [
      "Found 100000 files belonging to 200 classes.\n",
      "Using 80000 files for training.\n",
      "Using 20000 files for validation.\n",
      "Metal device set to: Apple M1\n"
     ]
    },
    {
     "name": "stderr",
     "output_type": "stream",
     "text": [
      "2022-12-21 11:14:01.869984: I tensorflow/core/common_runtime/pluggable_device/pluggable_device_factory.cc:306] Could not identify NUMA node of platform GPU ID 0, defaulting to 0. Your kernel may not have been built with NUMA support.\n",
      "2022-12-21 11:14:01.870346: I tensorflow/core/common_runtime/pluggable_device/pluggable_device_factory.cc:272] Created TensorFlow device (/job:localhost/replica:0/task:0/device:GPU:0 with 0 MB memory) -> physical PluggableDevice (device: 0, name: METAL, pci bus id: <undefined>)\n"
     ]
    }
   ],
   "source": [
    "data_generator = DataGenerator(\n",
    "    directory=\"tiny-imagenet-200/train/\",\n",
    "    batch_size=128,\n",
    "    image_size=(64, 64),\n",
    "    shuffle=True,\n",
    "    seed=SEED,\n",
    "    validation_split=0.2\n",
    ")\n",
    "\n",
    "ds_train, ds_val = data_generator.train, data_generator.val"
   ]
  },
  {
   "cell_type": "markdown",
   "id": "bb59ba35-678e-45af-b877-2c03efa2b8b4",
   "metadata": {},
   "source": [
    "# Load model"
   ]
  },
  {
   "cell_type": "code",
   "execution_count": 3,
   "id": "c28be42c-2cd3-424e-b43d-0ab33c34b564",
   "metadata": {},
   "outputs": [
    {
     "name": "stdout",
     "output_type": "stream",
     "text": [
      "WARNING:tensorflow:Please fix your imports. Module tensorflow.python.training.tracking.data_structures has been moved to tensorflow.python.trackable.data_structures. The old module will be deleted in version 2.11.\n"
     ]
    }
   ],
   "source": [
    "model = load_and_compile_model()"
   ]
  },
  {
   "cell_type": "code",
   "execution_count": null,
   "id": "7acd4cfc-4757-4f3b-b3f5-060adcbe46f1",
   "metadata": {},
   "outputs": [
    {
     "name": "stderr",
     "output_type": "stream",
     "text": [
      "2022-12-21 11:14:18.715618: W tensorflow/core/platform/profile_utils/cpu_utils.cc:128] Failed to get CPU frequency: 0 Hz\n",
      "2022-12-21 11:14:18.753085: I tensorflow/core/grappler/optimizers/custom_graph_optimizer_registry.cc:114] Plugin optimizer for device_type GPU is enabled.\n"
     ]
    },
    {
     "name": "stdout",
     "output_type": "stream",
     "text": [
      "609/625 [============================>.] - ETA: 2s - loss: 0.9958"
     ]
    }
   ],
   "source": [
    "# Train the network\n",
    "history = model.fit(\n",
    "    ds_train,\n",
    "    epochs=1)"
   ]
  },
  {
   "cell_type": "markdown",
   "id": "571a9016-e0b8-4ccb-9f10-6665a973d615",
   "metadata": {},
   "source": [
    "# Save model"
   ]
  },
  {
   "cell_type": "code",
   "execution_count": null,
   "id": "97cb5284-ea25-4367-8d98-57725408ebd2",
   "metadata": {},
   "outputs": [],
   "source": [
    "model.save(\"saved_models/feature_model\")"
   ]
  },
  {
   "cell_type": "markdown",
   "id": "44cff004-2a24-419c-920f-67eb43b54c33",
   "metadata": {},
   "source": [
    "# Evaluate model"
   ]
  },
  {
   "cell_type": "code",
   "execution_count": null,
   "id": "11c6a5f9-e945-4682-bc5f-2cb8eedb5955",
   "metadata": {},
   "outputs": [],
   "source": [
    "model.predict(ds_val)"
   ]
  },
  {
   "cell_type": "code",
   "execution_count": null,
   "id": "1e29ef28-9208-4311-8e09-a5ef955a25a1",
   "metadata": {},
   "outputs": [],
   "source": [
    "model.evaluate(ds_val)"
   ]
  },
  {
   "cell_type": "code",
   "execution_count": null,
   "id": "3423ffdd-65dd-4bb4-91a8-223a2bf88e6c",
   "metadata": {},
   "outputs": [],
   "source": [
    "ds_one_class = ds_val.unbatch().filter(lambda x, y: y==100)"
   ]
  },
  {
   "cell_type": "code",
   "execution_count": null,
   "id": "1d402efb-4ecf-443f-aea1-fbf67e7a3fda",
   "metadata": {},
   "outputs": [],
   "source": [
    "model.evaluate(ds_one_class.batch(32))"
   ]
  },
  {
   "cell_type": "code",
   "execution_count": null,
   "id": "149707a9-4ab9-478b-9bad-57027fd6b82d",
   "metadata": {},
   "outputs": [],
   "source": []
  }
 ],
 "metadata": {
  "kernelspec": {
   "display_name": "Python 3 (ipykernel)",
   "language": "python",
   "name": "python3"
  },
  "language_info": {
   "codemirror_mode": {
    "name": "ipython",
    "version": 3
   },
   "file_extension": ".py",
   "mimetype": "text/x-python",
   "name": "python",
   "nbconvert_exporter": "python",
   "pygments_lexer": "ipython3",
   "version": "3.10.8"
  },
  "vscode": {
   "interpreter": {
    "hash": "a2f3763b8f7ed0fd895f0e4219790d0139d7c113c011eea59191ef43ba4883ed"
   }
  }
 },
 "nbformat": 4,
 "nbformat_minor": 5
}
