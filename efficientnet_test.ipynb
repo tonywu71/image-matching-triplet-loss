{
 "cells": [
  {
   "cell_type": "code",
   "execution_count": 1,
   "id": "324b4314-88c0-4909-b18f-12d99f4165af",
   "metadata": {},
   "outputs": [],
   "source": [
    "%load_ext autoreload\n",
    "%autoreload 2\n",
    "\n",
    "import numpy as np\n",
    "import tensorflow as tf\n",
    "import tensorflow_hub as hub\n",
    "import tensorflow_addons as tfa\n",
    "\n",
    "from dataloader.utils import get_count_classes, plot_classes, plot_from_one_class\n",
    "\n",
    "SEED = 0"
   ]
  },
  {
   "cell_type": "markdown",
   "id": "6b828070-3db2-45aa-9bff-dbc47ea23b19",
   "metadata": {},
   "source": [
    "# Load datasets"
   ]
  },
  {
   "cell_type": "code",
   "execution_count": 2,
   "id": "a6425c9f-bb36-4915-803d-687d00b825ed",
   "metadata": {},
   "outputs": [
    {
     "name": "stdout",
     "output_type": "stream",
     "text": [
      "Found 100000 files belonging to 200 classes.\n",
      "Using 80000 files for training.\n",
      "Using 20000 files for validation.\n",
      "Metal device set to: Apple M1\n"
     ]
    },
    {
     "name": "stderr",
     "output_type": "stream",
     "text": [
      "2022-12-21 09:16:07.014243: I tensorflow/core/common_runtime/pluggable_device/pluggable_device_factory.cc:306] Could not identify NUMA node of platform GPU ID 0, defaulting to 0. Your kernel may not have been built with NUMA support.\n",
      "2022-12-21 09:16:07.014388: I tensorflow/core/common_runtime/pluggable_device/pluggable_device_factory.cc:272] Created TensorFlow device (/job:localhost/replica:0/task:0/device:GPU:0 with 0 MB memory) -> physical PluggableDevice (device: 0, name: METAL, pci bus id: <undefined>)\n"
     ]
    }
   ],
   "source": [
    "ds_train, ds_val = tf.keras.utils.image_dataset_from_directory(\n",
    "    directory=\"tiny-imagenet-200/train/\",\n",
    "    batch_size=128,\n",
    "    image_size=(64, 64),\n",
    "    shuffle=True,\n",
    "    seed=SEED,\n",
    "    validation_split=0.2,\n",
    "    subset=\"both\"\n",
    "    )"
   ]
  },
  {
   "cell_type": "markdown",
   "id": "bb59ba35-678e-45af-b877-2c03efa2b8b4",
   "metadata": {},
   "source": [
    "# Load model"
   ]
  },
  {
   "cell_type": "code",
   "execution_count": 3,
   "id": "9e18c4d8-8d32-4a00-8ee3-130d958a12c4",
   "metadata": {},
   "outputs": [
    {
     "name": "stdout",
     "output_type": "stream",
     "text": [
      "WARNING:tensorflow:Please fix your imports. Module tensorflow.python.training.tracking.data_structures has been moved to tensorflow.python.trackable.data_structures. The old module will be deleted in version 2.11.\n"
     ]
    }
   ],
   "source": [
    "feature_layer = hub.KerasLayer(\"https://tfhub.dev/google/imagenet/efficientnet_v2_imagenet1k_b0/feature_vector/2\")\n",
    "\n",
    "model = tf.keras.Sequential([\n",
    "    feature_layer,\n",
    "    tf.keras.layers.Lambda(lambda x: tf.math.l2_normalize(x, axis=1)) # L2 normalize embeddings\n",
    "])"
   ]
  },
  {
   "cell_type": "code",
   "execution_count": 4,
   "id": "c28be42c-2cd3-424e-b43d-0ab33c34b564",
   "metadata": {},
   "outputs": [],
   "source": [
    "# Compile the model\n",
    "model.compile(\n",
    "    optimizer=tf.keras.optimizers.Adam(0.001),\n",
    "    loss=tfa.losses.TripletSemiHardLoss())"
   ]
  },
  {
   "cell_type": "code",
   "execution_count": 5,
   "id": "7acd4cfc-4757-4f3b-b3f5-060adcbe46f1",
   "metadata": {},
   "outputs": [
    {
     "name": "stderr",
     "output_type": "stream",
     "text": [
      "2022-12-21 09:16:23.958997: W tensorflow/core/platform/profile_utils/cpu_utils.cc:128] Failed to get CPU frequency: 0 Hz\n",
      "2022-12-21 09:16:23.995235: I tensorflow/core/grappler/optimizers/custom_graph_optimizer_registry.cc:114] Plugin optimizer for device_type GPU is enabled.\n"
     ]
    },
    {
     "name": "stdout",
     "output_type": "stream",
     "text": [
      "625/625 [==============================] - 98s 145ms/step - loss: 0.9958\n"
     ]
    }
   ],
   "source": [
    "# Train the network\n",
    "history = model.fit(\n",
    "    ds_train,\n",
    "    epochs=1)"
   ]
  },
  {
   "cell_type": "markdown",
   "id": "44cff004-2a24-419c-920f-67eb43b54c33",
   "metadata": {},
   "source": [
    "# Evaluate model"
   ]
  },
  {
   "cell_type": "code",
   "execution_count": 6,
   "id": "11c6a5f9-e945-4682-bc5f-2cb8eedb5955",
   "metadata": {},
   "outputs": [
    {
     "name": "stderr",
     "output_type": "stream",
     "text": [
      "2022-12-21 09:17:56.342222: I tensorflow/core/grappler/optimizers/custom_graph_optimizer_registry.cc:114] Plugin optimizer for device_type GPU is enabled.\n"
     ]
    },
    {
     "name": "stdout",
     "output_type": "stream",
     "text": [
      "157/157 [==============================] - 24s 146ms/step\n"
     ]
    },
    {
     "data": {
      "text/plain": [
       "array([[-7.5757998e-05, -4.5162878e-09, -1.4489256e-25, ...,\n",
       "        -8.3673528e-21, -4.1457671e-12, -1.4790303e-04],\n",
       "       [-1.0738067e-31, -1.4747615e-06,  0.0000000e+00, ...,\n",
       "        -4.1538949e-20,  2.4478859e-03,  3.0744132e-02],\n",
       "       [ 0.0000000e+00,  0.0000000e+00,  0.0000000e+00, ...,\n",
       "         0.0000000e+00,  0.0000000e+00, -2.6299375e-17],\n",
       "       ...,\n",
       "       [-3.3578297e-06,  4.8777264e-02, -1.5114010e-06, ...,\n",
       "        -4.2849418e-12, -3.8702380e-13, -2.8337383e-11],\n",
       "       [-7.9475321e-05, -1.7508333e-04, -1.1933424e-26, ...,\n",
       "        -4.6231605e-15, -1.7810679e-07, -5.1165596e-08],\n",
       "       [-2.4036795e-12,  1.0545861e-02,  0.0000000e+00, ...,\n",
       "        -4.0958357e-28,  0.0000000e+00, -4.3341282e-36]], dtype=float32)"
      ]
     },
     "execution_count": 6,
     "metadata": {},
     "output_type": "execute_result"
    }
   ],
   "source": [
    "model.predict(ds_val)"
   ]
  },
  {
   "cell_type": "code",
   "execution_count": 7,
   "id": "1e29ef28-9208-4311-8e09-a5ef955a25a1",
   "metadata": {},
   "outputs": [
    {
     "name": "stderr",
     "output_type": "stream",
     "text": [
      "2022-12-21 09:18:20.713197: I tensorflow/core/grappler/optimizers/custom_graph_optimizer_registry.cc:114] Plugin optimizer for device_type GPU is enabled.\n"
     ]
    },
    {
     "name": "stdout",
     "output_type": "stream",
     "text": [
      "157/157 [==============================] - 24s 142ms/step - loss: 0.9959\n"
     ]
    },
    {
     "data": {
      "text/plain": [
       "0.9959089159965515"
      ]
     },
     "execution_count": 7,
     "metadata": {},
     "output_type": "execute_result"
    }
   ],
   "source": [
    "model.evaluate(ds_val)"
   ]
  },
  {
   "cell_type": "code",
   "execution_count": 8,
   "id": "3423ffdd-65dd-4bb4-91a8-223a2bf88e6c",
   "metadata": {},
   "outputs": [],
   "source": [
    "ds_one_class = ds_val.unbatch().filter(lambda x, y: y==100)"
   ]
  },
  {
   "cell_type": "code",
   "execution_count": 10,
   "id": "1d402efb-4ecf-443f-aea1-fbf67e7a3fda",
   "metadata": {},
   "outputs": [
    {
     "name": "stdout",
     "output_type": "stream",
     "text": [
      "3/3 [==============================] - 5s 2s/step - loss: 2.1930\n"
     ]
    },
    {
     "data": {
      "text/plain": [
       "2.193035840988159"
      ]
     },
     "execution_count": 10,
     "metadata": {},
     "output_type": "execute_result"
    }
   ],
   "source": [
    "model.evaluate(ds_one_class.batch(32))"
   ]
  },
  {
   "cell_type": "code",
   "execution_count": null,
   "id": "149707a9-4ab9-478b-9bad-57027fd6b82d",
   "metadata": {},
   "outputs": [],
   "source": []
  }
 ],
 "metadata": {
  "kernelspec": {
   "display_name": "Python 3 (ipykernel)",
   "language": "python",
   "name": "python3"
  },
  "language_info": {
   "codemirror_mode": {
    "name": "ipython",
    "version": 3
   },
   "file_extension": ".py",
   "mimetype": "text/x-python",
   "name": "python",
   "nbconvert_exporter": "python",
   "pygments_lexer": "ipython3",
   "version": "3.10.8"
  }
 },
 "nbformat": 4,
 "nbformat_minor": 5
}
